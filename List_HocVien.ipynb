{
 "cells": [
  {
   "cell_type": "markdown",
   "metadata": {},
   "source": [
    "# Quản lý thông tin học viên"
   ]
  },
  {
   "cell_type": "code",
   "execution_count": 1,
   "metadata": {},
   "outputs": [],
   "source": [
    "# Khởi tạo 1 mảng có sẵn.\n",
    "Class = [\n",
    "    [\"Ma So\",\"Ho Ten\",\"Gioi tinh\",\"Que Quan\",\"LT\",\"TH\"],\n",
    "    [\"001\",\"Nguyen Van Duc\",\"Nam\",\"Lam Dong\",\"80\",\"100\"],\n",
    "    [\"002\",\"Nguyen Minh Nguyet\",\"Nu\",\"Bac Lieu\",\"90\",\"70\"],\n",
    "    [\"003\",\"Tran Cong Danh\",\"Nam\",\"Long An\",\"90\",\"90\"]\n",
    "]"
   ]
  },
  {
   "cell_type": "code",
   "execution_count": 2,
   "metadata": {},
   "outputs": [
    {
     "data": {
      "text/plain": [
       "'Gioi tinh'"
      ]
     },
     "execution_count": 2,
     "metadata": {},
     "output_type": "execute_result"
    }
   ],
   "source": [
    "Class[0][2]"
   ]
  },
  {
   "cell_type": "code",
   "execution_count": 3,
   "metadata": {},
   "outputs": [],
   "source": [
    "# option 1: Thêm học viên\n",
    "def add_Class(id,name,gender,place,lt,th):\n",
    "    Class.append([id,name,gender,place,lt,th])\n",
    "    print(\"Danh sách học viên sau khi thêm là:\\n \", Class)"
   ]
  },
  {
   "cell_type": "code",
   "execution_count": 4,
   "metadata": {},
   "outputs": [],
   "source": [
    "# Option 2: Hiển thị danh sách tất cả học viên:\n",
    "def show_Class():\n",
    "    print(\"Danh sách tất cả học viên trong lớp: \")\n",
    "    print(Class)"
   ]
  },
  {
   "cell_type": "code",
   "execution_count": 5,
   "metadata": {},
   "outputs": [],
   "source": [
    "# Option 3: Xóa thông tin học viên:\n",
    "def drop_class(index):\n",
    "    Class.pop(index)\n",
    "    print(\"Danh sách sau khi xóa là: \",Class)"
   ]
  },
  {
   "cell_type": "code",
   "execution_count": 6,
   "metadata": {},
   "outputs": [],
   "source": [
    "#Option:\n",
    "def option():\n",
    "    print('''Mời bạn lựa chọn chức năng:\n",
    "            1. Thêm thông tin học viên\n",
    "            2. Hiển thị danh sách học viên\n",
    "            3. Xóa học viên theo vị trí trong danh sách.''')"
   ]
  },
  {
   "cell_type": "code",
   "execution_count": 8,
   "metadata": {},
   "outputs": [
    {
     "name": "stdout",
     "output_type": "stream",
     "text": [
      "Mời bạn lựa chọn chức năng:\n",
      "            1. Thêm thông tin học viên\n",
      "            2. Hiển thị danh sách học viên\n",
      "            3. Xóa học viên theo vị trí trong danh sách.\n",
      " Nhập vào lựa chọn của bạn: 1\n",
      "Nhập vào mã số sinh viên: 004\n",
      "Nhập vào họ và tên sinh viên: Nguyen Thi Minh Thu\n",
      "Nhập vào giới tính của sinh viên: Nu\n",
      "Nhập vào địa chỉ: Bac Lieu\n",
      "Nhập vào điểm lý thuyết (Lớn hơn 0 và nhỏ hơn 100):  100\n",
      "Nhập vào điểm thực hành: (Lớn hơn 0 và nhỏ hơn 100):100\n",
      "Danh sách học viên sau khi thêm là:\n",
      "  [['Ma So', 'Ho Ten', 'Gioi tinh', 'Que Quan', 'LT', 'TH'], ['001', 'Nguyen Van Duc', 'Nam', 'Lam Dong', '80', '100'], ['002', 'Nguyen Minh Nguyet', 'Nu', 'Bac Lieu', '90', '70'], ['003', 'Tran Cong Danh', 'Nam', 'Long An', '90', '90'], ['004', 'Nguyen Thi Minh Thu', 'Nu', 'Bac Lieu', 100, 100]]\n"
     ]
    }
   ],
   "source": [
    "# Input\n",
    "option()\n",
    "select = int(input(\" Nhập vào lựa chọn của bạn: \"))\n",
    "if select > 0 and select < 4:\n",
    "    if select == 1:\n",
    "        id = input(\"Nhập vào mã số sinh viên: \")\n",
    "        name = input(\"Nhập vào họ và tên sinh viên: \")\n",
    "        gender = input(\"Nhập vào giới tính của sinh viên: \")\n",
    "        place = input(\"Nhập vào địa chỉ: \")\n",
    "        lt = int(input(\"Nhập vào điểm lý thuyết (Lớn hơn 0 và nhỏ hơn 100):  \"))\n",
    "        th = int(input(\"Nhập vào điểm thực hành: (Lớn hơn 0 và nhỏ hơn 100):\"))\n",
    "        if lt < 0 or lt > 100 or th < 0 or th > 100:\n",
    "            print(\"ERROR\")\n",
    "        else:\n",
    "            add_Class(id,name,gender,place,lt,th)\n",
    "    elif select == 2:\n",
    "        show_Class()\n",
    "    elif select == 3:\n",
    "        index = int(input(\"Bạn muốn xóa thông tin ở vị trí thứ mấy? \"))\n",
    "        drop_class(index)\n",
    "else:\n",
    "    print(\"Lựa chọn của bạn nằm ngoài phạm vi hoạt động, xin mời thay thế lựa chọn! \")\n",
    "        "
   ]
  },
  {
   "cell_type": "code",
   "execution_count": null,
   "metadata": {},
   "outputs": [],
   "source": []
  }
 ],
 "metadata": {
  "kernelspec": {
   "display_name": "Python 3",
   "language": "python",
   "name": "python3"
  },
  "language_info": {
   "codemirror_mode": {
    "name": "ipython",
    "version": 3
   },
   "file_extension": ".py",
   "mimetype": "text/x-python",
   "name": "python",
   "nbconvert_exporter": "python",
   "pygments_lexer": "ipython3",
   "version": "3.7.6"
  }
 },
 "nbformat": 4,
 "nbformat_minor": 4
}
