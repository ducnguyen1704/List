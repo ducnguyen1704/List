{
 "cells": [
  {
   "cell_type": "markdown",
   "metadata": {},
   "source": [
    "# **LIST & TUPLE**"
   ]
  },
  {
   "cell_type": "code",
   "execution_count": 3,
   "metadata": {},
   "outputs": [
    {
     "name": "stdout",
     "output_type": "stream",
     "text": [
      "[1, 2, 3, 4, 'Minh', 'Dũng']\n"
     ]
    }
   ],
   "source": [
    "# Cách tạo list:\n",
    "languages = [1,2,3,4, \"Minh\",\"Dũng\"]\n",
    "print(languages)"
   ]
  },
  {
   "cell_type": "markdown",
   "metadata": {},
   "source": [
    "## Các thao tác với list"
   ]
  },
  {
   "cell_type": "markdown",
   "metadata": {},
   "source": [
    "### 1. Kiểm tra số phần tử trong list: Dùng hàm len() để kiểm tra số phần tử trong list"
   ]
  },
  {
   "cell_type": "code",
   "execution_count": 4,
   "metadata": {},
   "outputs": [
    {
     "data": {
      "text/plain": [
       "6"
      ]
     },
     "execution_count": 4,
     "metadata": {},
     "output_type": "execute_result"
    }
   ],
   "source": [
    "len(languages)"
   ]
  },
  {
   "cell_type": "markdown",
   "metadata": {},
   "source": [
    "### 2. Truy xuất các phần tử trong list: Dùng chỉ số để truy xuất đến các phần tử của list"
   ]
  },
  {
   "cell_type": "code",
   "execution_count": 5,
   "metadata": {},
   "outputs": [],
   "source": [
    "demo = [1,2,3,4,\"MInh\",\"Hoàng\",6,7]"
   ]
  },
  {
   "cell_type": "code",
   "execution_count": 6,
   "metadata": {},
   "outputs": [
    {
     "data": {
      "text/plain": [
       "1"
      ]
     },
     "execution_count": 6,
     "metadata": {},
     "output_type": "execute_result"
    }
   ],
   "source": [
    "demo[0]"
   ]
  },
  {
   "cell_type": "code",
   "execution_count": 7,
   "metadata": {},
   "outputs": [
    {
     "data": {
      "text/plain": [
       "[1, 2]"
      ]
     },
     "execution_count": 7,
     "metadata": {},
     "output_type": "execute_result"
    }
   ],
   "source": [
    "demo[0:2]"
   ]
  },
  {
   "cell_type": "code",
   "execution_count": 14,
   "metadata": {},
   "outputs": [
    {
     "data": {
      "text/plain": [
       "['Hoàng', 6]"
      ]
     },
     "execution_count": 14,
     "metadata": {},
     "output_type": "execute_result"
    }
   ],
   "source": [
    "demo[-3:-1]"
   ]
  },
  {
   "cell_type": "markdown",
   "metadata": {},
   "source": [
    "### 3. Thay đổi giá trị của các phần tử trong list: Dùng chỉ số để thay đổi giá trị của một phần tử cụ thể nào đó hoặc chúng ta cũng có thể thay đổi cùng lúc nhiều giá trị bằng cách dùng khoảng chỉ số."
   ]
  },
  {
   "cell_type": "code",
   "execution_count": 15,
   "metadata": {},
   "outputs": [
    {
     "name": "stdout",
     "output_type": "stream",
     "text": [
      "List trước khi thay đổi =  [1, 2, 3, 4, 'Minh', 'Dũng']\n"
     ]
    }
   ],
   "source": [
    "print(\"List trước khi thay đổi = \", languages)"
   ]
  },
  {
   "cell_type": "code",
   "execution_count": 16,
   "metadata": {},
   "outputs": [
    {
     "name": "stdout",
     "output_type": "stream",
     "text": [
      "List sau khi thay đổi =  [1, 'Dũng', 3, 4, 'Minh', 'Dũng']\n"
     ]
    }
   ],
   "source": [
    "languages[1] = \"Dũng\"\n",
    "print(\"List sau khi thay đổi = \", languages)"
   ]
  },
  {
   "cell_type": "code",
   "execution_count": 18,
   "metadata": {},
   "outputs": [
    {
     "name": "stdout",
     "output_type": "stream",
     "text": [
      "1 2 3 4 MInh Hoàng 6 7 "
     ]
    }
   ],
   "source": [
    "# Duyệt vòng for qua từng chỉ số:\n",
    "for i in demo:\n",
    "    print(i,end = \" \")"
   ]
  },
  {
   "cell_type": "code",
   "execution_count": 19,
   "metadata": {},
   "outputs": [
    {
     "name": "stdout",
     "output_type": "stream",
     "text": [
      "List sau khi thay đổi =  [1, 'Dũng', 100, 200, 'Minh', 'Dũng']\n"
     ]
    }
   ],
   "source": [
    "# Thay đổi một lúc nhiều giá trị của list\n",
    "languages[2:5] = [100,200,\"Minh\"]\n",
    "print(\"List sau khi thay đổi = \", languages)"
   ]
  },
  {
   "cell_type": "markdown",
   "metadata": {},
   "source": [
    "#### Thêm phần tử mới vào list: Để thêm phần tử vào list, dùng phương thức append khi thêm phần tử vào cuối list. Phương thức insert để thêm phần tử vào một vị trí chỉ định nào đó trong list."
   ]
  },
  {
   "cell_type": "code",
   "execution_count": 20,
   "metadata": {},
   "outputs": [
    {
     "data": {
      "text/plain": [
       "[1, 2, 3, 4, 'MInh', 'Hoàng', 6, 7, 'Chung']"
      ]
     },
     "execution_count": 20,
     "metadata": {},
     "output_type": "execute_result"
    }
   ],
   "source": [
    "demo.append(\"Chung\")\n",
    "demo"
   ]
  },
  {
   "cell_type": "code",
   "execution_count": 21,
   "metadata": {},
   "outputs": [
    {
     "name": "stdout",
     "output_type": "stream",
     "text": [
      "List sau khi thêm phần tử =  [1, 'Swift', 'Dũng', 100, 200, 'Minh', 'Dũng']\n"
     ]
    }
   ],
   "source": [
    "# Dùng phương thức insert để thêm vào một vị trí bất kỳ trong list\n",
    "languages.insert(1, \"Swift\")\n",
    "print(\"List sau khi thêm phần tử = \", languages)"
   ]
  },
  {
   "cell_type": "markdown",
   "metadata": {},
   "source": [
    "#### * Ngoài ra, phương thức extend() cũng được dùng để thêm vào list các phần tử của list khác. (Toán tử + có chức năng tương tự extend())\n",
    "\n"
   ]
  },
  {
   "cell_type": "code",
   "execution_count": 22,
   "metadata": {},
   "outputs": [
    {
     "name": "stdout",
     "output_type": "stream",
     "text": [
      "List trước khi thay đổi =  [1, 'Swift', 'Dũng', 100, 200, 'Minh', 'Dũng']\n",
      "List sau khi mở rộng bằng extend() =  [1, 'Swift', 'Dũng', 100, 200, 'Minh', 'Dũng', 'Swift', 'C++']\n"
     ]
    }
   ],
   "source": [
    "print(\"List trước khi thay đổi = \", languages)\n",
    "languages_extend = [\"Swift\", \"C++\"]\n",
    "# Nối hai list bằng extend()\n",
    "languages.extend(languages_extend)\n",
    "print(\"List sau khi mở rộng bằng extend() = \", languages)"
   ]
  },
  {
   "cell_type": "code",
   "execution_count": 23,
   "metadata": {},
   "outputs": [
    {
     "name": "stdout",
     "output_type": "stream",
     "text": [
      "List sau khi mở rộng bằng toán tử + =  [1, 'Swift', 'Dũng', 100, 200, 'Minh', 'Dũng', 'Swift', 'C++', 'Swift', 'C++']\n"
     ]
    }
   ],
   "source": [
    "# Nối hai list bằng toán tử +\n",
    "languages_joint = languages + languages_extend\n",
    "print(\"List sau khi mở rộng bằng toán tử + = \", languages_joint)"
   ]
  },
  {
   "cell_type": "markdown",
   "metadata": {},
   "source": [
    "### 4. Xóa phần tử của list: Phương thức remove() dùng để xóa một phần tử cụ thể nào đó trong list. Ngoài remove(), phương thức pop() cũng được sử dụng để xóa một phần tử ở trong list."
   ]
  },
  {
   "cell_type": "code",
   "execution_count": 24,
   "metadata": {},
   "outputs": [
    {
     "name": "stdout",
     "output_type": "stream",
     "text": [
      "List trước khi xóa =  ['PHP', 'Python', 'C#', 'Java', 'Android']\n",
      "List sau khi xóa bởi phương thức remove()=  ['PHP', 'Python', 'Java', 'Android']\n"
     ]
    }
   ],
   "source": [
    "languages = [\"PHP\", \"Python\", \"C#\", \"Java\", \"Android\"]\n",
    "\n",
    "print(\"List trước khi xóa = \", languages)\n",
    "\n",
    "# Dùng phương thức remove()\n",
    "languages.remove(\"C#\")\n",
    "print(\"List sau khi xóa bởi phương thức remove()= \", languages)\n"
   ]
  },
  {
   "cell_type": "code",
   "execution_count": 25,
   "metadata": {},
   "outputs": [
    {
     "name": "stdout",
     "output_type": "stream",
     "text": [
      "List sau khi xóa bởi phương thức pop() =  ['PHP', 'Java', 'Android']\n"
     ]
    }
   ],
   "source": [
    "# Dùng phương thức pop() để xóa phần tử thứ 2 trong list\n",
    "# Lưu ý: Khi dùng pop không có tham số, phần tử cuối cùng của list sẽ\n",
    "# được xóa khỏi list\n",
    "languages.pop(1)\n",
    "print(\"List sau khi xóa bởi phương thức pop() = \", languages)"
   ]
  },
  {
   "cell_type": "markdown",
   "metadata": {},
   "source": [
    "__Ngoài 2 phương pháp trên, từ khóa del cũng được dùng để xóa một phần tử trong list thông qua chỉ số của nó hoặc xóa toàn bộ list.__"
   ]
  },
  {
   "cell_type": "code",
   "execution_count": 27,
   "metadata": {},
   "outputs": [
    {
     "name": "stdout",
     "output_type": "stream",
     "text": [
      "List trước khi xóa =  ['PHP', 'Python', 'C#', 'Java', 'Android']\n",
      "List sau khi xóa bởi del=  ['PHP', 'C#', 'Java', 'Android']\n"
     ]
    }
   ],
   "source": [
    "languages = [\"PHP\", \"Python\", \"C#\", \"Java\", \"Android\"]\n",
    "\n",
    "print(\"List trước khi xóa = \", languages)\n",
    "\n",
    "# Dùng từ khóa del xóa phần tử thứ 2 của list\n",
    "del languages[1]\n",
    "print(\"List sau khi xóa bởi del= \", languages)"
   ]
  },
  {
   "cell_type": "code",
   "execution_count": 28,
   "metadata": {},
   "outputs": [],
   "source": [
    "# Xóa toàn bộ list, sau khi xóa, language không tồn taị\n",
    "del languages"
   ]
  },
  {
   "cell_type": "code",
   "execution_count": 30,
   "metadata": {},
   "outputs": [
    {
     "ename": "NameError",
     "evalue": "name 'languages' is not defined",
     "output_type": "error",
     "traceback": [
      "\u001b[1;31m---------------------------------------------------------------------------\u001b[0m",
      "\u001b[1;31mNameError\u001b[0m                                 Traceback (most recent call last)",
      "\u001b[1;32m<ipython-input-30-3d27cac258fc>\u001b[0m in \u001b[0;36m<module>\u001b[1;34m\u001b[0m\n\u001b[1;32m----> 1\u001b[1;33m \u001b[0mlanguages\u001b[0m\u001b[1;33m[\u001b[0m\u001b[1;36m0\u001b[0m\u001b[1;33m]\u001b[0m\u001b[1;33m\u001b[0m\u001b[1;33m\u001b[0m\u001b[0m\n\u001b[0m",
      "\u001b[1;31mNameError\u001b[0m: name 'languages' is not defined"
     ]
    }
   ],
   "source": [
    "languages[0]"
   ]
  },
  {
   "cell_type": "markdown",
   "metadata": {},
   "source": [
    "### 5. Làm rỗng list: Để làm rỗng list dùng phương thức clear()"
   ]
  },
  {
   "cell_type": "code",
   "execution_count": 31,
   "metadata": {},
   "outputs": [
    {
     "name": "stdout",
     "output_type": "stream",
     "text": [
      "List trước khi làm rỗng =  ['PHP', 'Python', 'C#', 'Java', 'Android']\n",
      "List sau khi làm rỗng =  []\n"
     ]
    }
   ],
   "source": [
    "languages = [\"PHP\", \"Python\", \"C#\", \"Java\", \"Android\"]\n",
    "\n",
    "print(\"List trước khi làm rỗng = \", languages)\n",
    "\n",
    "# Làm rỗng list với phương thức clear()\n",
    "languages.clear()\n",
    "print(\"List sau khi làm rỗng = \", languages)"
   ]
  },
  {
   "cell_type": "markdown",
   "metadata": {},
   "source": [
    "### 6. Sắp xếp list: Dùng phương thức sort() để sắp xếp các phần tử trong list theo thứ tự mặc định là tăng dần. Khi muốn sắp xếp theo thứ tự ngược lại, dùng sort() với tham số reverse = True."
   ]
  },
  {
   "cell_type": "code",
   "execution_count": 32,
   "metadata": {},
   "outputs": [
    {
     "name": "stdout",
     "output_type": "stream",
     "text": [
      "List trước khi sắp xếp =  ['PHP', 'Python', 'C#', 'Java', 'Android']\n",
      "List sau khi sắp xếp reverse = False =  ['Android', 'C#', 'Java', 'PHP', 'Python']\n",
      "List sau khi sắp xếp reverse = True =  ['Python', 'PHP', 'Java', 'C#', 'Android']\n"
     ]
    }
   ],
   "source": [
    "languages = [\"PHP\", \"Python\", \"C#\", \"Java\", \"Android\"]\n",
    "\n",
    "print(\"List trước khi sắp xếp = \", languages)\n",
    "\n",
    "# Sắp xếp list với sort()\n",
    "languages.sort()\n",
    "print(\"List sau khi sắp xếp reverse = False = \", languages) # Sắp xếp tăng dần\n",
    "\n",
    "# Sắp xếp list với sort() theo thứ tự ngược lại\n",
    "languages.sort(reverse=True)\n",
    "print(\"List sau khi sắp xếp reverse = True = \", languages) # Sắp xếp giảm dần"
   ]
  },
  {
   "cell_type": "markdown",
   "metadata": {},
   "source": [
    "### 7. Copy list: Để tạo một list là copy của một list khác, chúng ta không thể thực hiện bằng phương pháp gán list2 = list1 bởi vì list là kiểu dữ liệu tham chiếu. Khi list1 thay đổi thì list2 cũng thay đổi theo. Do vậy để tạo một list copy chúng ta sử dụng phương thức copy"
   ]
  },
  {
   "cell_type": "code",
   "execution_count": 34,
   "metadata": {},
   "outputs": [
    {
     "name": "stdout",
     "output_type": "stream",
     "text": [
      "List 1 =  ['PHP', 'Python', 'C#', 'Java', 'Android']\n",
      "List 2 =  ['PHP', 'Python', 'C#', 'Java', 'Android']\n"
     ]
    }
   ],
   "source": [
    "languages = [\"PHP\", \"Python\", \"C#\", \"Java\", \"Android\"]\n",
    "\n",
    "print(\"List 1 = \", languages)\n",
    "\n",
    "# Tạo list 2 là từ list 1 bằng phương thức copy()\n",
    "languages2 = languages.copy()\n",
    "print(\"List 2 = \", languages2)"
   ]
  },
  {
   "cell_type": "code",
   "execution_count": 38,
   "metadata": {},
   "outputs": [
    {
     "name": "stdout",
     "output_type": "stream",
     "text": [
      "['PHP', 'Python', 'C#', 'Java', 'Android', 'Minh', 'Dũng', 'Dũng']\n",
      "['PHP', 'Python', 'C#', 'Java', 'Android']\n"
     ]
    }
   ],
   "source": [
    "languages2.append(\"Dũng\")\n",
    "print(languages2)\n",
    "print(languages)"
   ]
  },
  {
   "cell_type": "markdown",
   "metadata": {},
   "source": [
    "# TUPLE:\n",
    "## Tuples được sử dụng trong Python để lưu nhiều giá trị một một biến. Các phần tử trong tuple có thứ tự nhất định và không thể thay đổi, điều này có nghĩa là sau khi tuple được tạo, nó không thể thay đổi, thêm mới hoặc xóa phần tử. Các phần tử của tuple có thể có cùng giá trị (trùng nhau) và chúng được đánh chỉ số tương ứng, phần tử đầu tiên có chỉ số là 0\n",
    "## Cách tạo tuple: Tuple được tạo sử dụng dấu ngoặc tròn để khai báo các phần tử của tuple."
   ]
  },
  {
   "cell_type": "code",
   "execution_count": 39,
   "metadata": {},
   "outputs": [
    {
     "name": "stdout",
     "output_type": "stream",
     "text": [
      "Tuple =  ('PHP', 'Python', 'C#', 'Java', 'Android')\n"
     ]
    }
   ],
   "source": [
    "languages = (\"PHP\", \"Python\", \"C#\", \"Java\", \"Android\")\n",
    "\n",
    "print(\"Tuple = \", languages)"
   ]
  },
  {
   "cell_type": "markdown",
   "metadata": {},
   "source": [
    "# **Chú ý: Khi tạo tuple với chỉ một phần tử, cần phải sử dụng dấu phẩy sau phần tử, nếu không, biến khai báo không được coi là 1 tuple"
   ]
  },
  {
   "cell_type": "code",
   "execution_count": 40,
   "metadata": {},
   "outputs": [
    {
     "name": "stdout",
     "output_type": "stream",
     "text": [
      "Kiểu dữ liệu =  <class 'tuple'>\n",
      "Kiểu dữ liệu =  <class 'str'>\n"
     ]
    }
   ],
   "source": [
    "# Khai báo tuple với 1 phần tử\n",
    "languages = (\"Python\",)\n",
    "print(\"Kiểu dữ liệu = \", type(languages))\n",
    "\n",
    "# Trong trường hợp này languages là\n",
    "# 1 string\n",
    "languages = (\"Python\")\n",
    "print(\"Kiểu dữ liệu = \", type(languages))"
   ]
  },
  {
   "cell_type": "markdown",
   "metadata": {},
   "source": [
    "### Ngoài cách tạo tuple như trên, chúng ta có thể tạo tuple bằng cách sử dụng hàm khởi tạo (constructor) tuple như sau:"
   ]
  },
  {
   "cell_type": "code",
   "execution_count": 41,
   "metadata": {},
   "outputs": [
    {
     "name": "stdout",
     "output_type": "stream",
     "text": [
      "Tuple =  ('PHP', 'Python', 'C#', 'Java', 'Android')\n"
     ]
    }
   ],
   "source": [
    "languages = tuple((\"PHP\", \"Python\", \"C#\", \"Java\", \"Android\"))\n",
    "\n",
    "print(\"Tuple = \", languages)"
   ]
  },
  {
   "cell_type": "code",
   "execution_count": 42,
   "metadata": {},
   "outputs": [
    {
     "data": {
      "text/plain": [
       "tuple"
      ]
     },
     "execution_count": 42,
     "metadata": {},
     "output_type": "execute_result"
    }
   ],
   "source": [
    "type(languages)"
   ]
  },
  {
   "cell_type": "markdown",
   "metadata": {},
   "source": [
    "## Cập nhật các phần tử của tuple: Sau khi tuple được tạo, các phần tử trong tuple là không thể thay đổi. Tuy nhiên, vẫn có cách để cập nhật (Thay đổi phần tử, thêm phần tử, xóa phần tử) trong tuple. Để làm được điều đó, đầu tiên tuple được chuyển đổi sang list, sau đó cập nhật list đó theo mong muốn. Cuối cùng lại chuyển đổi từ list đã cập nhật sang tuple. Xem ví dụ bên dưới:"
   ]
  },
  {
   "cell_type": "code",
   "execution_count": 43,
   "metadata": {},
   "outputs": [
    {
     "name": "stdout",
     "output_type": "stream",
     "text": [
      "Tuple =  ('PHP', 'Python', 'C#', 'Java', 'Android')\n",
      "Tuple sau khi cập nhật =  ('C++', 'Python', 'Java', 'Android', 'Swift')\n"
     ]
    }
   ],
   "source": [
    "languages = tuple((\"PHP\", \"Python\", \"C#\", \"Java\", \"Android\"))\n",
    "\n",
    "print(\"Tuple = \", languages)\n",
    "\n",
    "# Chuyển đổi từ tuple sang list\n",
    "languages_list = list(languages)\n",
    "\n",
    "# Thêm phần tử trên list\n",
    "languages_list.append(\"Swift\")\n",
    "\n",
    "# Thay đổi phần tử thứ nhất\n",
    "languages_list[0] = \"C++\"\n",
    "\n",
    "# Xóa phần tử thứ 3\n",
    "languages_list.pop(2)\n",
    "\n",
    "# Chuyển đổi từ list sang tuple\n",
    "languages = tuple(languages_list)\n",
    "\n",
    "print(\"Tuple sau khi cập nhật = \", languages)"
   ]
  },
  {
   "cell_type": "code",
   "execution_count": 44,
   "metadata": {},
   "outputs": [
    {
     "name": "stdout",
     "output_type": "stream",
     "text": [
      "Tuple trước khi mở rộng ('PHP', 'Python', 'C#', 'Java', 'Android')\n",
      "Tuple sau khi mở rộng ('PHP', 'Python', 'C#', 'Java', 'Android', 'Swift')\n"
     ]
    }
   ],
   "source": [
    "# Mở rộng tuple bằng toán tử cộng:\n",
    "languages = tuple((\"PHP\", \"Python\", \"C#\", \"Java\", \"Android\"))\n",
    "\n",
    "print(\"Tuple trước khi mở rộng\", languages)\n",
    "languages2 = (\"Swift\", )\n",
    "\n",
    "languages = languages+languages2\n",
    "\n",
    "print(\"Tuple sau khi mở rộng\", languages)"
   ]
  },
  {
   "cell_type": "code",
   "execution_count": 45,
   "metadata": {},
   "outputs": [
    {
     "name": "stdout",
     "output_type": "stream",
     "text": [
      "Tuple trước khi * ('PHP', 'Python', 'C#', 'Java', 'Android')\n",
      "Tuple sau khi * ('PHP', 'Python', 'C#', 'Java', 'Android', 'PHP', 'Python', 'C#', 'Java', 'Android')\n"
     ]
    }
   ],
   "source": [
    "languages = tuple((\"PHP\", \"Python\", \"C#\", \"Java\", \"Android\"))\n",
    "\n",
    "print(\"Tuple trước khi *\", languages)\n",
    "\n",
    "languages = languages * 2\n",
    "\n",
    "print(\"Tuple sau khi *\", languages)"
   ]
  },
  {
   "cell_type": "markdown",
   "metadata": {},
   "source": [
    "### Unpacking: Khi tuple được  tạo, chúng ta gói các giá trị (phần tử) vào trong 1 biến kiểu tuple (quá trình này gọi là packing). Ở chiều ngược lại, khi ta lấy các giá trị của tuple lưu vào các biến được gọi là unpacking."
   ]
  },
  {
   "cell_type": "code",
   "execution_count": 46,
   "metadata": {},
   "outputs": [
    {
     "name": "stdout",
     "output_type": "stream",
     "text": [
      "PHP\n",
      "Python\n",
      "C#\n"
     ]
    }
   ],
   "source": [
    "languages = (\"PHP\", \"Python\", \"C#\")\n",
    "\n",
    "(php, python, c_sharp) = languages\n",
    "print(php)\n",
    "print(python)\n",
    "print(c_sharp)"
   ]
  },
  {
   "cell_type": "markdown",
   "metadata": {},
   "source": [
    "### ** Lưu ý, số lượng biến dùng để unpack tuple phải bằng số lượng phần tử trong tuple. Trong trường hợp số lượng biến nhỏ hơn, ta phải thêm dấu * trước 1 biến nào đó, lúc đó biến chứa dấu * sẽ chứa tất cả những phần tử còn lại trong tuple."
   ]
  },
  {
   "cell_type": "code",
   "execution_count": 47,
   "metadata": {},
   "outputs": [
    {
     "name": "stdout",
     "output_type": "stream",
     "text": [
      "PHP\n",
      "Python\n",
      "['C#', 'Java', 'Visual Basic']\n"
     ]
    }
   ],
   "source": [
    "languages = (\"PHP\", \"Python\", \"C#\", \"Java\", \"Visual Basic\")\n",
    "\n",
    "(php, python, *other) = languages\n",
    "print(php)\n",
    "print(python)\n",
    "print(other)"
   ]
  },
  {
   "cell_type": "code",
   "execution_count": 49,
   "metadata": {},
   "outputs": [
    {
     "name": "stdout",
     "output_type": "stream",
     "text": [
      "Số lần phần tử Python trong tuple =  2\n",
      "Index of C# =  2\n"
     ]
    }
   ],
   "source": [
    "languages = (\"PHP\", \"Python\", \"C#\", \"Java\", \"Visual Basic\", \"Python\")\n",
    "\n",
    "# Số lần phần tử Python xuất hiện trong tuple\n",
    "p = languages.count(\"Python\")\n",
    "print(\"Số lần phần tử Python trong tuple = \", p)\n",
    "\n",
    "# Tìm kiếm phần tử C# trong tuple\n",
    "i_c_sharp = languages.index(\"C#\")\n",
    "print(\"Index of C# = \", i_c_sharp)\n"
   ]
  },
  {
   "cell_type": "code",
   "execution_count": 52,
   "metadata": {},
   "outputs": [
    {
     "ename": "ValueError",
     "evalue": "tuple.index(x): x not in tuple",
     "output_type": "error",
     "traceback": [
      "\u001b[1;31m---------------------------------------------------------------------------\u001b[0m",
      "\u001b[1;31mValueError\u001b[0m                                Traceback (most recent call last)",
      "\u001b[1;32m<ipython-input-52-1ea529b5d858>\u001b[0m in \u001b[0;36m<module>\u001b[1;34m\u001b[0m\n\u001b[0;32m      1\u001b[0m \u001b[1;31m# Nếu phần tử không tồn tại trong tuple, sẽ phát sinh lỗi\u001b[0m\u001b[1;33m\u001b[0m\u001b[1;33m\u001b[0m\u001b[1;33m\u001b[0m\u001b[0m\n\u001b[1;32m----> 2\u001b[1;33m \u001b[0mprint\u001b[0m\u001b[1;33m(\u001b[0m\u001b[1;34m\"Index of Swift = \"\u001b[0m\u001b[1;33m,\u001b[0m \u001b[0mlanguages\u001b[0m\u001b[1;33m.\u001b[0m\u001b[0mindex\u001b[0m\u001b[1;33m(\u001b[0m\u001b[1;34m\"Min\"\u001b[0m\u001b[1;33m)\u001b[0m\u001b[1;33m)\u001b[0m\u001b[1;33m\u001b[0m\u001b[1;33m\u001b[0m\u001b[0m\n\u001b[0m",
      "\u001b[1;31mValueError\u001b[0m: tuple.index(x): x not in tuple"
     ]
    }
   ],
   "source": [
    "# Nếu phần tử không tồn tại trong tuple, sẽ phát sinh lỗi\n",
    "print(\"Index of Swift = \", languages.index(\"Min\"))"
   ]
  },
  {
   "cell_type": "markdown",
   "metadata": {},
   "source": [
    "# 09.09.2021"
   ]
  },
  {
   "cell_type": "markdown",
   "metadata": {},
   "source": [
    "# List và Tuple"
   ]
  },
  {
   "cell_type": "code",
   "execution_count": 1,
   "metadata": {},
   "outputs": [],
   "source": [
    "empty_list = list()"
   ]
  },
  {
   "cell_type": "code",
   "execution_count": 3,
   "metadata": {},
   "outputs": [],
   "source": [
    "number_list = list([1,2,3,4,5])"
   ]
  },
  {
   "cell_type": "code",
   "execution_count": 4,
   "metadata": {},
   "outputs": [
    {
     "name": "stdout",
     "output_type": "stream",
     "text": [
      "[1, 2, 3, 4, 5]\n"
     ]
    }
   ],
   "source": [
    "print(number_list)"
   ]
  },
  {
   "cell_type": "code",
   "execution_count": 12,
   "metadata": {},
   "outputs": [],
   "source": [
    "friend = [\"Minh\",\"Hoang\",\"Quoc\",\"Trung\"]\n",
    "friend.append(\"Lan\")"
   ]
  },
  {
   "cell_type": "code",
   "execution_count": 6,
   "metadata": {},
   "outputs": [],
   "source": [
    "friend.insert(0, \"Minh\")"
   ]
  },
  {
   "cell_type": "code",
   "execution_count": 11,
   "metadata": {},
   "outputs": [
    {
     "data": {
      "text/plain": [
       "[]"
      ]
     },
     "execution_count": 11,
     "metadata": {},
     "output_type": "execute_result"
    }
   ],
   "source": [
    "friend.pop(0)\n",
    "friend"
   ]
  },
  {
   "cell_type": "code",
   "execution_count": 14,
   "metadata": {},
   "outputs": [
    {
     "data": {
      "text/plain": [
       "['Minh', 'Hoang', 'Quoc', 'Trung', 'Lan']"
      ]
     },
     "execution_count": 14,
     "metadata": {},
     "output_type": "execute_result"
    }
   ],
   "source": [
    "friend"
   ]
  },
  {
   "cell_type": "code",
   "execution_count": 15,
   "metadata": {},
   "outputs": [
    {
     "data": {
      "text/plain": [
       "['Minh', 'Hoang', 'Quoc', 'Trung']"
      ]
     },
     "execution_count": 15,
     "metadata": {},
     "output_type": "execute_result"
    }
   ],
   "source": [
    "friend.remove(\"Lan\")\n",
    "friend"
   ]
  },
  {
   "cell_type": "code",
   "execution_count": 16,
   "metadata": {},
   "outputs": [
    {
     "ename": "ValueError",
     "evalue": "list.remove(x): x not in list",
     "output_type": "error",
     "traceback": [
      "\u001b[1;31m---------------------------------------------------------------------------\u001b[0m",
      "\u001b[1;31mValueError\u001b[0m                                Traceback (most recent call last)",
      "\u001b[1;32m<ipython-input-16-6e31f40fda6f>\u001b[0m in \u001b[0;36m<module>\u001b[1;34m\u001b[0m\n\u001b[1;32m----> 1\u001b[1;33m \u001b[0mfriend\u001b[0m\u001b[1;33m.\u001b[0m\u001b[0mremove\u001b[0m\u001b[1;33m(\u001b[0m\u001b[1;34m\"Lan\"\u001b[0m\u001b[1;33m)\u001b[0m\u001b[1;33m\u001b[0m\u001b[1;33m\u001b[0m\u001b[0m\n\u001b[0m\u001b[0;32m      2\u001b[0m \u001b[0mfrien\u001b[0m\u001b[1;33m\u001b[0m\u001b[1;33m\u001b[0m\u001b[0m\n",
      "\u001b[1;31mValueError\u001b[0m: list.remove(x): x not in list"
     ]
    }
   ],
   "source": [
    "friend.remove(\"Lan\")\n",
    "frien"
   ]
  },
  {
   "cell_type": "code",
   "execution_count": 1,
   "metadata": {},
   "outputs": [],
   "source": [
    "# Mảng lồng:\n",
    "# Khởi tạo 1 mảng có sẵn.\n",
    "Class = [\n",
    "    [\"Ma So\",\"Ho Ten\",\"Gioi tinh\",\"Que Quan\",\"LT\",\"TH\"],\n",
    "    [\"001\",\"Nguyen Van Duc\",\"Nam\",\"Lam Dong\",\"80\",\"100\"],\n",
    "    [\"002\",\"Nguyen Minh Nguyet\",\"Nu\",\"Bac Lieu\",\"90\",\"70\"],\n",
    "    [\"003\",\"Tran Cong Danh\",\"Nam\",\"Long An\",\"90\",\"90\"]\n",
    "]"
   ]
  },
  {
   "cell_type": "code",
   "execution_count": 2,
   "metadata": {},
   "outputs": [
    {
     "data": {
      "text/plain": [
       "'Gioi tinh'"
      ]
     },
     "execution_count": 2,
     "metadata": {},
     "output_type": "execute_result"
    }
   ],
   "source": [
    "Class[0][2]"
   ]
  },
  {
   "cell_type": "code",
   "execution_count": null,
   "metadata": {},
   "outputs": [],
   "source": []
  }
 ],
 "metadata": {
  "kernelspec": {
   "display_name": "Python 3",
   "language": "python",
   "name": "python3"
  },
  "language_info": {
   "codemirror_mode": {
    "name": "ipython",
    "version": 3
   },
   "file_extension": ".py",
   "mimetype": "text/x-python",
   "name": "python",
   "nbconvert_exporter": "python",
   "pygments_lexer": "ipython3",
   "version": "3.7.6"
  }
 },
 "nbformat": 4,
 "nbformat_minor": 4
}
