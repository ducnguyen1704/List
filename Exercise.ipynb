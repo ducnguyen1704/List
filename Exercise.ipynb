{
 "cells": [
  {
   "cell_type": "markdown",
   "metadata": {},
   "source": [
    "# Exercise 3"
   ]
  },
  {
   "cell_type": "code",
   "execution_count": 5,
   "metadata": {},
   "outputs": [
    {
     "name": "stdout",
     "output_type": "stream",
     "text": [
      "List ban đầu có các số sau:  [0, 2, 14, 34, 5, 534, 43, 5543, 436, 465, 34, 656, 354, 24, 35, 464, 345, 34]\n",
      "List sau khi đã được sắp xếp theo thứ tự tăng:  [5543, 656, 534, 465, 464, 436, 354, 345, 43, 35, 34, 34, 34, 24, 14, 5, 2, 0]\n",
      "Số lớn nhất trong list là:  5543\n",
      "Số lớn thứ 2 trong list là:  656\n"
     ]
    }
   ],
   "source": [
    "lst = [0,2,14,34,5,534,43,5543,436,465,34,656,354,24,35,464,345,34]\n",
    "print(\"List ban đầu có các số sau: \",lst)\n",
    "lst.sort(reverse = True)\n",
    "print(\"List sau khi đã được sắp xếp theo thứ tự tăng: \",lst)\n",
    "print(\"Số lớn nhất trong list là: \", lst[0])\n",
    "print(\"Số lớn thứ 2 trong list là: \", lst[1])"
   ]
  },
  {
   "cell_type": "code",
   "execution_count": null,
   "metadata": {},
   "outputs": [],
   "source": []
  }
 ],
 "metadata": {
  "kernelspec": {
   "display_name": "Python 3",
   "language": "python",
   "name": "python3"
  },
  "language_info": {
   "codemirror_mode": {
    "name": "ipython",
    "version": 3
   },
   "file_extension": ".py",
   "mimetype": "text/x-python",
   "name": "python",
   "nbconvert_exporter": "python",
   "pygments_lexer": "ipython3",
   "version": "3.7.6"
  }
 },
 "nbformat": 4,
 "nbformat_minor": 4
}
